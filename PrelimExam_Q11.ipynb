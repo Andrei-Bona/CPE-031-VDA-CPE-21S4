{
  "nbformat": 4,
  "nbformat_minor": 0,
  "metadata": {
    "colab": {
      "provenance": [],
      "authorship_tag": "ABX9TyNKHvkRFF28x3ljnZqwZnIm",
      "include_colab_link": true
    },
    "kernelspec": {
      "name": "python3",
      "display_name": "Python 3"
    },
    "language_info": {
      "name": "python"
    }
  },
  "cells": [
    {
      "cell_type": "markdown",
      "metadata": {
        "id": "view-in-github",
        "colab_type": "text"
      },
      "source": [
        "<a href=\"https://colab.research.google.com/github/Andrei-Bona/CPE-031-VDA-CPE-21S4/blob/main/PrelimExam_Q11.ipynb\" target=\"_parent\"><img src=\"https://colab.research.google.com/assets/colab-badge.svg\" alt=\"Open In Colab\"/></a>"
      ]
    },
    {
      "cell_type": "code",
      "execution_count": null,
      "metadata": {
        "colab": {
          "base_uri": "https://localhost:8080/"
        },
        "id": "foE9Dbnx4Nxt",
        "outputId": "2ff10974-4046-48ad-d6de-c2d6ac3aa9b2"
      },
      "outputs": [
        {
          "output_type": "stream",
          "name": "stdout",
          "text": [
            "    X   Y   Z\n",
            "0  78  84  86\n",
            "1  85  94  97\n",
            "2  96  89  96\n",
            "3  80  83  72\n",
            "4  86  86  83\n"
          ]
        }
      ],
      "source": [
        "import pandas as pd\n",
        "\n",
        "dataset = {'X':[78, 85, 96, 80, 86],\n",
        "           'Y':[84, 94, 89, 83, 86],\n",
        "           'Z':[86, 97, 96, 72, 83]}\n",
        "\n",
        "a = pd.DataFrame(dataset)\n",
        "\n",
        "print(a)"
      ]
    }
  ]
}