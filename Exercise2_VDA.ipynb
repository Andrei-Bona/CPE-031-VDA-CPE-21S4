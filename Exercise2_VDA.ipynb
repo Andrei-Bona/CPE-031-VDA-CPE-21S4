{
  "nbformat": 4,
  "nbformat_minor": 0,
  "metadata": {
    "colab": {
      "provenance": [],
      "authorship_tag": "ABX9TyOee9gT5P1OI4KC4XypH9IM",
      "include_colab_link": true
    },
    "kernelspec": {
      "name": "python3",
      "display_name": "Python 3"
    },
    "language_info": {
      "name": "python"
    }
  },
  "cells": [
    {
      "cell_type": "markdown",
      "metadata": {
        "id": "view-in-github",
        "colab_type": "text"
      },
      "source": [
        "<a href=\"https://colab.research.google.com/github/Andrei-Bona/CPE-031-VDA-CPE-21S4/blob/main/Exercise2_VDA.ipynb\" target=\"_parent\"><img src=\"https://colab.research.google.com/assets/colab-badge.svg\" alt=\"Open In Colab\"/></a>"
      ]
    },
    {
      "cell_type": "markdown",
      "source": [
        "Example 1"
      ],
      "metadata": {
        "id": "1BLhk_sj8Bxl"
      }
    },
    {
      "cell_type": "code",
      "execution_count": null,
      "metadata": {
        "colab": {
          "base_uri": "https://localhost:8080/"
        },
        "id": "BJXdArCvyTM7",
        "outputId": "d7de3776-4241-4bcf-dee5-329dba2a247e"
      },
      "outputs": [
        {
          "output_type": "stream",
          "name": "stdout",
          "text": [
            "  animals  height\n",
            "0     Cat      13\n",
            "1     Dog      17\n",
            "2  Rabbit       8\n"
          ]
        }
      ],
      "source": [
        "import pandas as pd\n",
        "\n",
        "mydataset = {'animals': [\"Cat\", \"Dog\", \"Rabbit\"],'height': [13, 17, 8]}\n",
        "\n",
        "myvar = pd.DataFrame(mydataset)\n",
        "\n",
        "print(myvar)"
      ]
    },
    {
      "cell_type": "markdown",
      "source": [
        "Example 2"
      ],
      "metadata": {
        "id": "uw-Vb1T18GqR"
      }
    },
    {
      "cell_type": "code",
      "source": [
        "a = [\"Andrei\", 1.1 , 1 , 7 ,2]\n",
        "\n",
        "myvar = pd.Series(a)\n",
        "print(myvar,\"\\n\")\n",
        "print(myvar[3])"
      ],
      "metadata": {
        "colab": {
          "base_uri": "https://localhost:8080/"
        },
        "id": "SF2tGsSq2h_A",
        "outputId": "d3fe3b74-92d1-499e-d093-3e0bd1709cb5"
      },
      "execution_count": null,
      "outputs": [
        {
          "output_type": "stream",
          "name": "stdout",
          "text": [
            "0    Andrei\n",
            "1       1.1\n",
            "2         1\n",
            "3         7\n",
            "4         2\n",
            "dtype: object \n",
            "\n",
            "7\n"
          ]
        }
      ]
    },
    {
      "cell_type": "markdown",
      "source": [
        "Example 3"
      ],
      "metadata": {
        "id": "HVc0crSJ8IMh"
      }
    },
    {
      "cell_type": "code",
      "source": [
        "data = {\n",
        "    \"age\": [42, 38, 39],\n",
        "    \"weight\": [50, 40, 45]}\n",
        "\n",
        "myvar = pd.DataFrame(data)\n",
        "print(myvar,\"\\n\")\n",
        "print(myvar.loc[0], \"\\n\")\n",
        "print(myvar.loc[[2]])\n"
      ],
      "metadata": {
        "colab": {
          "base_uri": "https://localhost:8080/"
        },
        "id": "oZZGPStv75sO",
        "outputId": "64193a51-8a0b-448f-f0bd-f8b9d139e10f"
      },
      "execution_count": 34,
      "outputs": [
        {
          "output_type": "stream",
          "name": "stdout",
          "text": [
            "   age  weight\n",
            "0   42      50\n",
            "1   38      40\n",
            "2   39      45 \n",
            "\n",
            "age       42\n",
            "weight    50\n",
            "Name: 0, dtype: int64 \n",
            "\n",
            "   age  weight\n",
            "2   39      45\n"
          ]
        }
      ]
    },
    {
      "cell_type": "markdown",
      "source": [
        "Example 4"
      ],
      "metadata": {
        "id": "Ddv5l1kk_em1"
      }
    },
    {
      "cell_type": "code",
      "source": [
        "#series using data frames\n",
        "s1 = pd.Series([0, 4, 8])\n",
        "s2 = pd.Series([1, 5, 9])\n",
        "s3 = pd.Series([2, 6, 7])\n",
        "\n",
        "dframe = pd.DataFrame([s1, s2, s3, s4])\n",
        "dframe1 = dframe.drop(0)\n",
        "print(dframe1)\n"
      ],
      "metadata": {
        "colab": {
          "base_uri": "https://localhost:8080/"
        },
        "id": "AMhjHLxE_gkR",
        "outputId": "03b0219b-44d6-40d2-e9c8-e93331f9f021"
      },
      "execution_count": 73,
      "outputs": [
        {
          "output_type": "stream",
          "name": "stdout",
          "text": [
            "   0   1   2\n",
            "1  1   5   9\n",
            "2  2   6   7\n",
            "3  5  10  15\n"
          ]
        }
      ]
    },
    {
      "cell_type": "markdown",
      "source": [
        "Example 5"
      ],
      "metadata": {
        "id": "Q9Fx7o97ESu5"
      }
    },
    {
      "cell_type": "code",
      "source": [
        "#creating multi-dimentional table\n",
        "s4 = pd.Series([5, 10, 15])\n",
        "dframe = pd.DataFrame(data = [s1, s2, s3, s4], index = [0, 1, 2, 3], columns = [0, 1, 2, 3])\n",
        "print(dframe)"
      ],
      "metadata": {
        "id": "kNq7BubCET8s"
      },
      "execution_count": null,
      "outputs": []
    },
    {
      "cell_type": "markdown",
      "source": [
        "#Challange 2"
      ],
      "metadata": {
        "id": "SGlFRK6NGTwX"
      }
    },
    {
      "cell_type": "markdown",
      "source": [
        "How are you going to delete indices no 0, 1, 3 leaving only 2?"
      ],
      "metadata": {
        "id": "0nPCs9MdGX7q"
      }
    }
  ]
}