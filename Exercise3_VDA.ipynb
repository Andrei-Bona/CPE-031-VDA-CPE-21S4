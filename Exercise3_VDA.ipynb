{
  "nbformat": 4,
  "nbformat_minor": 0,
  "metadata": {
    "colab": {
      "provenance": [],
      "authorship_tag": "ABX9TyMcSEnYfV2XMv+ju4n/Nzi8",
      "include_colab_link": true
    },
    "kernelspec": {
      "name": "python3",
      "display_name": "Python 3"
    },
    "language_info": {
      "name": "python"
    }
  },
  "cells": [
    {
      "cell_type": "markdown",
      "metadata": {
        "id": "view-in-github",
        "colab_type": "text"
      },
      "source": [
        "<a href=\"https://colab.research.google.com/github/Andrei-Bona/CPE-031-VDA-CPE-21S4/blob/main/Exercise3_VDA.ipynb\" target=\"_parent\"><img src=\"https://colab.research.google.com/assets/colab-badge.svg\" alt=\"Open In Colab\"/></a>"
      ]
    },
    {
      "cell_type": "markdown",
      "source": [
        "Load Files Into a DataFrame"
      ],
      "metadata": {
        "id": "TRFM7lpWwPaL"
      }
    },
    {
      "cell_type": "code",
      "execution_count": 2,
      "metadata": {
        "colab": {
          "base_uri": "https://localhost:8080/"
        },
        "id": "RSDih1WEs0Et",
        "outputId": "fcaf0d89-5e53-40d0-db06-aeb6c787ec63"
      },
      "outputs": [
        {
          "output_type": "stream",
          "name": "stdout",
          "text": [
            "Requirement already satisfied: pandas in /usr/local/lib/python3.10/dist-packages (2.1.4)\n",
            "Requirement already satisfied: numpy<2,>=1.22.4 in /usr/local/lib/python3.10/dist-packages (from pandas) (1.26.4)\n",
            "Requirement already satisfied: python-dateutil>=2.8.2 in /usr/local/lib/python3.10/dist-packages (from pandas) (2.8.2)\n",
            "Requirement already satisfied: pytz>=2020.1 in /usr/local/lib/python3.10/dist-packages (from pandas) (2024.1)\n",
            "Requirement already satisfied: tzdata>=2022.1 in /usr/local/lib/python3.10/dist-packages (from pandas) (2024.1)\n",
            "Requirement already satisfied: six>=1.5 in /usr/local/lib/python3.10/dist-packages (from python-dateutil>=2.8.2->pandas) (1.16.0)\n"
          ]
        }
      ],
      "source": [
        "#import csv file using Pandas\n",
        "!pip install pandas"
      ]
    },
    {
      "cell_type": "code",
      "source": [
        "from google.colab import files\n",
        "\n",
        "uploadfile = files.upload()\n"
      ],
      "metadata": {
        "colab": {
          "base_uri": "https://localhost:8080/",
          "height": 74
        },
        "id": "yNEA00xFxvSq",
        "outputId": "77e52ca8-402e-4de3-a888-a6e23578d46f"
      },
      "execution_count": 7,
      "outputs": [
        {
          "output_type": "display_data",
          "data": {
            "text/plain": [
              "<IPython.core.display.HTML object>"
            ],
            "text/html": [
              "\n",
              "     <input type=\"file\" id=\"files-7f1911ac-ca9c-4cd0-8da3-e12419829ce3\" name=\"files[]\" multiple disabled\n",
              "        style=\"border:none\" />\n",
              "     <output id=\"result-7f1911ac-ca9c-4cd0-8da3-e12419829ce3\">\n",
              "      Upload widget is only available when the cell has been executed in the\n",
              "      current browser session. Please rerun this cell to enable.\n",
              "      </output>\n",
              "      <script>// Copyright 2017 Google LLC\n",
              "//\n",
              "// Licensed under the Apache License, Version 2.0 (the \"License\");\n",
              "// you may not use this file except in compliance with the License.\n",
              "// You may obtain a copy of the License at\n",
              "//\n",
              "//      http://www.apache.org/licenses/LICENSE-2.0\n",
              "//\n",
              "// Unless required by applicable law or agreed to in writing, software\n",
              "// distributed under the License is distributed on an \"AS IS\" BASIS,\n",
              "// WITHOUT WARRANTIES OR CONDITIONS OF ANY KIND, either express or implied.\n",
              "// See the License for the specific language governing permissions and\n",
              "// limitations under the License.\n",
              "\n",
              "/**\n",
              " * @fileoverview Helpers for google.colab Python module.\n",
              " */\n",
              "(function(scope) {\n",
              "function span(text, styleAttributes = {}) {\n",
              "  const element = document.createElement('span');\n",
              "  element.textContent = text;\n",
              "  for (const key of Object.keys(styleAttributes)) {\n",
              "    element.style[key] = styleAttributes[key];\n",
              "  }\n",
              "  return element;\n",
              "}\n",
              "\n",
              "// Max number of bytes which will be uploaded at a time.\n",
              "const MAX_PAYLOAD_SIZE = 100 * 1024;\n",
              "\n",
              "function _uploadFiles(inputId, outputId) {\n",
              "  const steps = uploadFilesStep(inputId, outputId);\n",
              "  const outputElement = document.getElementById(outputId);\n",
              "  // Cache steps on the outputElement to make it available for the next call\n",
              "  // to uploadFilesContinue from Python.\n",
              "  outputElement.steps = steps;\n",
              "\n",
              "  return _uploadFilesContinue(outputId);\n",
              "}\n",
              "\n",
              "// This is roughly an async generator (not supported in the browser yet),\n",
              "// where there are multiple asynchronous steps and the Python side is going\n",
              "// to poll for completion of each step.\n",
              "// This uses a Promise to block the python side on completion of each step,\n",
              "// then passes the result of the previous step as the input to the next step.\n",
              "function _uploadFilesContinue(outputId) {\n",
              "  const outputElement = document.getElementById(outputId);\n",
              "  const steps = outputElement.steps;\n",
              "\n",
              "  const next = steps.next(outputElement.lastPromiseValue);\n",
              "  return Promise.resolve(next.value.promise).then((value) => {\n",
              "    // Cache the last promise value to make it available to the next\n",
              "    // step of the generator.\n",
              "    outputElement.lastPromiseValue = value;\n",
              "    return next.value.response;\n",
              "  });\n",
              "}\n",
              "\n",
              "/**\n",
              " * Generator function which is called between each async step of the upload\n",
              " * process.\n",
              " * @param {string} inputId Element ID of the input file picker element.\n",
              " * @param {string} outputId Element ID of the output display.\n",
              " * @return {!Iterable<!Object>} Iterable of next steps.\n",
              " */\n",
              "function* uploadFilesStep(inputId, outputId) {\n",
              "  const inputElement = document.getElementById(inputId);\n",
              "  inputElement.disabled = false;\n",
              "\n",
              "  const outputElement = document.getElementById(outputId);\n",
              "  outputElement.innerHTML = '';\n",
              "\n",
              "  const pickedPromise = new Promise((resolve) => {\n",
              "    inputElement.addEventListener('change', (e) => {\n",
              "      resolve(e.target.files);\n",
              "    });\n",
              "  });\n",
              "\n",
              "  const cancel = document.createElement('button');\n",
              "  inputElement.parentElement.appendChild(cancel);\n",
              "  cancel.textContent = 'Cancel upload';\n",
              "  const cancelPromise = new Promise((resolve) => {\n",
              "    cancel.onclick = () => {\n",
              "      resolve(null);\n",
              "    };\n",
              "  });\n",
              "\n",
              "  // Wait for the user to pick the files.\n",
              "  const files = yield {\n",
              "    promise: Promise.race([pickedPromise, cancelPromise]),\n",
              "    response: {\n",
              "      action: 'starting',\n",
              "    }\n",
              "  };\n",
              "\n",
              "  cancel.remove();\n",
              "\n",
              "  // Disable the input element since further picks are not allowed.\n",
              "  inputElement.disabled = true;\n",
              "\n",
              "  if (!files) {\n",
              "    return {\n",
              "      response: {\n",
              "        action: 'complete',\n",
              "      }\n",
              "    };\n",
              "  }\n",
              "\n",
              "  for (const file of files) {\n",
              "    const li = document.createElement('li');\n",
              "    li.append(span(file.name, {fontWeight: 'bold'}));\n",
              "    li.append(span(\n",
              "        `(${file.type || 'n/a'}) - ${file.size} bytes, ` +\n",
              "        `last modified: ${\n",
              "            file.lastModifiedDate ? file.lastModifiedDate.toLocaleDateString() :\n",
              "                                    'n/a'} - `));\n",
              "    const percent = span('0% done');\n",
              "    li.appendChild(percent);\n",
              "\n",
              "    outputElement.appendChild(li);\n",
              "\n",
              "    const fileDataPromise = new Promise((resolve) => {\n",
              "      const reader = new FileReader();\n",
              "      reader.onload = (e) => {\n",
              "        resolve(e.target.result);\n",
              "      };\n",
              "      reader.readAsArrayBuffer(file);\n",
              "    });\n",
              "    // Wait for the data to be ready.\n",
              "    let fileData = yield {\n",
              "      promise: fileDataPromise,\n",
              "      response: {\n",
              "        action: 'continue',\n",
              "      }\n",
              "    };\n",
              "\n",
              "    // Use a chunked sending to avoid message size limits. See b/62115660.\n",
              "    let position = 0;\n",
              "    do {\n",
              "      const length = Math.min(fileData.byteLength - position, MAX_PAYLOAD_SIZE);\n",
              "      const chunk = new Uint8Array(fileData, position, length);\n",
              "      position += length;\n",
              "\n",
              "      const base64 = btoa(String.fromCharCode.apply(null, chunk));\n",
              "      yield {\n",
              "        response: {\n",
              "          action: 'append',\n",
              "          file: file.name,\n",
              "          data: base64,\n",
              "        },\n",
              "      };\n",
              "\n",
              "      let percentDone = fileData.byteLength === 0 ?\n",
              "          100 :\n",
              "          Math.round((position / fileData.byteLength) * 100);\n",
              "      percent.textContent = `${percentDone}% done`;\n",
              "\n",
              "    } while (position < fileData.byteLength);\n",
              "  }\n",
              "\n",
              "  // All done.\n",
              "  yield {\n",
              "    response: {\n",
              "      action: 'complete',\n",
              "    }\n",
              "  };\n",
              "}\n",
              "\n",
              "scope.google = scope.google || {};\n",
              "scope.google.colab = scope.google.colab || {};\n",
              "scope.google.colab._files = {\n",
              "  _uploadFiles,\n",
              "  _uploadFilesContinue,\n",
              "};\n",
              "})(self);\n",
              "</script> "
            ]
          },
          "metadata": {}
        },
        {
          "output_type": "stream",
          "name": "stdout",
          "text": [
            "Saving Grade.csv to Grade (1).csv\n"
          ]
        }
      ]
    },
    {
      "cell_type": "code",
      "source": [
        "import pandas as pd\n",
        "df = pd.read_csv('Grade.csv')\n",
        "\n",
        "print(df)"
      ],
      "metadata": {
        "colab": {
          "base_uri": "https://localhost:8080/"
        },
        "id": "mFPnJnZjzq-z",
        "outputId": "ebd76ea3-570b-4923-995c-8eb8e2bb0bf7"
      },
      "execution_count": 8,
      "outputs": [
        {
          "output_type": "stream",
          "name": "stdout",
          "text": [
            "    CpE 0323-1  Quiz 1  Python Fundamentals  Conditional Statements  \\\n",
            "0         Name      50                  100                     100   \n",
            "1    STUDENT 1      33                  100                     100   \n",
            "2    STUDENT 2      22                  100                     100   \n",
            "3    STUDENT 3      42                  100                     100   \n",
            "4    STUDENT 4      34                  100                     100   \n",
            "5    STUDENT 5      38                  100                     100   \n",
            "6    STUDENT 6      30                  100                     100   \n",
            "7    STUDENT 7      24                  100                     100   \n",
            "8    STUDENT 8      37                  100                     100   \n",
            "9    STUDENT 9       0                  100                     100   \n",
            "10  STUDENT 10      43                  100                     100   \n",
            "11  STUDENT 11      35                  100                     100   \n",
            "12  STUDENT 12      41                  100                     100   \n",
            "13  STUDENT 13      37                  100                     100   \n",
            "14  STUDENT 14       0                  100                     100   \n",
            "15  STUDENT 15      37                  100                     100   \n",
            "16  STUDENT 16      31                  100                     100   \n",
            "17  STUDENT 17      28                  100                     100   \n",
            "18  STUDENT 18      43                  100                     100   \n",
            "19  STUDENT 19      35                  100                     100   \n",
            "20  STUDENT 20      31                  100                     100   \n",
            "21  STUDENT 20      31                  100                     100   \n",
            "22  STUDENT 22      35                  100                     100   \n",
            "23  STUDENT 23      31                  100                     100   \n",
            "24  STUDENT 24       0                  100                     100   \n",
            "25  STUDENT 25      31                  100                     100   \n",
            "26  STUDENT 26       0                  100                     100   \n",
            "27  STUDENT 27      40                  100                     100   \n",
            "28  STUDENT 28      40                  100                     100   \n",
            "29  STUDENT 29      36                  100                     100   \n",
            "\n",
            "    Loop Statement  Data Structure  Image Acquisition  Lab 1  Lab 2  Lab 3  \\\n",
            "0              100             100                100    100    100    100   \n",
            "1              100             100                100     90     90     90   \n",
            "2              100             100                100     80     75     75   \n",
            "3              100             100                100     90     80     90   \n",
            "4              100             100                100     80     75     75   \n",
            "5              100             100                100     90     80     90   \n",
            "6              100             100                100     80     75     75   \n",
            "7              100             100                100     90     80     90   \n",
            "8              100             100                100     90     80     90   \n",
            "9              100             100                100     90     90     90   \n",
            "10             100             100                100     95     95     95   \n",
            "11             100             100                100     90     90     90   \n",
            "12             100             100                100     90     90     90   \n",
            "13             100             100                100     90     90     90   \n",
            "14              75             100                100     95     95     95   \n",
            "15             100              75                 75     90     80     90   \n",
            "16             100             100                100     90     80     90   \n",
            "17             100             100                100     90     80     90   \n",
            "18             100             100                100     90     80     90   \n",
            "19             100             100                100     90     90     90   \n",
            "20             100             100                100     90     90     90   \n",
            "21             100             100                100     90     90     90   \n",
            "22             100             100                100     90     90     90   \n",
            "23             100             100                100     80     75     75   \n",
            "24              75              75                 75     90     80     90   \n",
            "25             100             100                100     95     95     95   \n",
            "26              75              75                 75     90     80     90   \n",
            "27             100             100                100     80     75     75   \n",
            "28             100             100                100     90     90     90   \n",
            "29             100             100                100     90     90     90   \n",
            "\n",
            "    Lab 4  Lab 5  \n",
            "0     100    100  \n",
            "1      90     90  \n",
            "2      75     95  \n",
            "3      90     90  \n",
            "4      75     95  \n",
            "5      90     90  \n",
            "6      75     95  \n",
            "7      90     90  \n",
            "8      90     95  \n",
            "9      90     90  \n",
            "10     95     80  \n",
            "11     90     90  \n",
            "12     90     90  \n",
            "13     90     90  \n",
            "14     95     80  \n",
            "15     90     90  \n",
            "16     90     90  \n",
            "17     90     95  \n",
            "18     90     95  \n",
            "19     90     90  \n",
            "20     90     90  \n",
            "21     90     90  \n",
            "22     90     90  \n",
            "23     75     95  \n",
            "24     90     95  \n",
            "25     95     80  \n",
            "26     90     95  \n",
            "27     75     95  \n",
            "28     90     90  \n",
            "29     90     90  \n"
          ]
        }
      ]
    },
    {
      "cell_type": "markdown",
      "source": [
        "Viewing the Data"
      ],
      "metadata": {
        "id": "GjVv19OT0Sex"
      }
    },
    {
      "cell_type": "code",
      "source": [
        "import pandas as pd\n",
        "df = pd.read_csv('Grade.csv')\n",
        "\n",
        "print(df.head(2)) #2 rows from the top\n",
        "print(df.tail(2)) #2 rows from the bottom"
      ],
      "metadata": {
        "colab": {
          "base_uri": "https://localhost:8080/"
        },
        "id": "tIEotX950jNJ",
        "outputId": "8e490ed7-b682-41a3-8147-b82c38af492f"
      },
      "execution_count": 13,
      "outputs": [
        {
          "output_type": "stream",
          "name": "stdout",
          "text": [
            "  CpE 0323-1  Quiz 1  Python Fundamentals  Conditional Statements  \\\n",
            "0       Name      50                  100                     100   \n",
            "1  STUDENT 1      33                  100                     100   \n",
            "\n",
            "   Loop Statement  Data Structure  Image Acquisition  Lab 1  Lab 2  Lab 3  \\\n",
            "0             100             100                100    100    100    100   \n",
            "1             100             100                100     90     90     90   \n",
            "\n",
            "   Lab 4  Lab 5  \n",
            "0    100    100  \n",
            "1     90     90  \n",
            "    CpE 0323-1  Quiz 1  Python Fundamentals  Conditional Statements  \\\n",
            "28  STUDENT 28      40                  100                     100   \n",
            "29  STUDENT 29      36                  100                     100   \n",
            "\n",
            "    Loop Statement  Data Structure  Image Acquisition  Lab 1  Lab 2  Lab 3  \\\n",
            "28             100             100                100     90     90     90   \n",
            "29             100             100                100     90     90     90   \n",
            "\n",
            "    Lab 4  Lab 5  \n",
            "28     90     90  \n",
            "29     90     90  \n"
          ]
        }
      ]
    },
    {
      "cell_type": "markdown",
      "source": [
        "Removing Duplicates"
      ],
      "metadata": {
        "id": "aMJgxiYA1f-z"
      }
    },
    {
      "cell_type": "code",
      "source": [
        "print(df.duplicated())\n",
        "df.drop_duplicates(inplace = True)\n"
      ],
      "metadata": {
        "colab": {
          "base_uri": "https://localhost:8080/"
        },
        "id": "zKvdtyIw1iep",
        "outputId": "eeb344c1-0422-424f-9251-c09a79dc0036"
      },
      "execution_count": 17,
      "outputs": [
        {
          "output_type": "stream",
          "name": "stdout",
          "text": [
            "0     False\n",
            "1     False\n",
            "2     False\n",
            "3     False\n",
            "4     False\n",
            "5     False\n",
            "6     False\n",
            "7     False\n",
            "8     False\n",
            "9     False\n",
            "10    False\n",
            "11    False\n",
            "12    False\n",
            "13    False\n",
            "14    False\n",
            "15    False\n",
            "16    False\n",
            "17    False\n",
            "18    False\n",
            "19    False\n",
            "20    False\n",
            "22    False\n",
            "23    False\n",
            "24    False\n",
            "25    False\n",
            "26    False\n",
            "27    False\n",
            "28    False\n",
            "29    False\n",
            "dtype: bool\n"
          ]
        }
      ]
    },
    {
      "cell_type": "markdown",
      "source": [
        "Tabutale"
      ],
      "metadata": {
        "id": "qXUTekEU2CuB"
      }
    },
    {
      "cell_type": "code",
      "source": [
        "from tabulate import tabulate\n",
        "df.drop_duplicates(inplace = True)\n",
        "print(tabulate(df, headers='keys', tablefmt='psql', showindex = False))\n"
      ],
      "metadata": {
        "colab": {
          "base_uri": "https://localhost:8080/"
        },
        "id": "eGSrIURT3DSx",
        "outputId": "a906e095-80be-464a-e86b-8a5adccd0a1e"
      },
      "execution_count": 29,
      "outputs": [
        {
          "output_type": "stream",
          "name": "stdout",
          "text": [
            "+--------------+----------+-----------------------+--------------------------+------------------+------------------+---------------------+---------+---------+---------+---------+---------+\n",
            "| CpE 0323-1   |   Quiz 1 |   Python Fundamentals |   Conditional Statements |   Loop Statement |   Data Structure |   Image Acquisition |   Lab 1 |   Lab 2 |   Lab 3 |   Lab 4 |   Lab 5 |\n",
            "|--------------+----------+-----------------------+--------------------------+------------------+------------------+---------------------+---------+---------+---------+---------+---------|\n",
            "| Name         |       50 |                   100 |                      100 |              100 |              100 |                 100 |     100 |     100 |     100 |     100 |     100 |\n",
            "| STUDENT 1    |       33 |                   100 |                      100 |              100 |              100 |                 100 |      90 |      90 |      90 |      90 |      90 |\n",
            "| STUDENT 2    |       22 |                   100 |                      100 |              100 |              100 |                 100 |      80 |      75 |      75 |      75 |      95 |\n",
            "| STUDENT 3    |       42 |                   100 |                      100 |              100 |              100 |                 100 |      90 |      80 |      90 |      90 |      90 |\n",
            "| STUDENT 4    |       34 |                   100 |                      100 |              100 |              100 |                 100 |      80 |      75 |      75 |      75 |      95 |\n",
            "| STUDENT 5    |       38 |                   100 |                      100 |              100 |              100 |                 100 |      90 |      80 |      90 |      90 |      90 |\n",
            "| STUDENT 6    |       30 |                   100 |                      100 |              100 |              100 |                 100 |      80 |      75 |      75 |      75 |      95 |\n",
            "| STUDENT 7    |       24 |                   100 |                      100 |              100 |              100 |                 100 |      90 |      80 |      90 |      90 |      90 |\n",
            "| STUDENT 8    |       37 |                   100 |                      100 |              100 |              100 |                 100 |      90 |      80 |      90 |      90 |      95 |\n",
            "| STUDENT 9    |        0 |                   100 |                      100 |              100 |              100 |                 100 |      90 |      90 |      90 |      90 |      90 |\n",
            "| STUDENT 10   |       43 |                   100 |                      100 |              100 |              100 |                 100 |      95 |      95 |      95 |      95 |      80 |\n",
            "| STUDENT 11   |       35 |                   100 |                      100 |              100 |              100 |                 100 |      90 |      90 |      90 |      90 |      90 |\n",
            "| STUDENT 12   |       41 |                   100 |                      100 |              100 |              100 |                 100 |      90 |      90 |      90 |      90 |      90 |\n",
            "| STUDENT 13   |       37 |                   100 |                      100 |              100 |              100 |                 100 |      90 |      90 |      90 |      90 |      90 |\n",
            "| STUDENT 14   |        0 |                   100 |                      100 |               75 |              100 |                 100 |      95 |      95 |      95 |      95 |      80 |\n",
            "| STUDENT 15   |       37 |                   100 |                      100 |              100 |               75 |                  75 |      90 |      80 |      90 |      90 |      90 |\n",
            "| STUDENT 16   |       31 |                   100 |                      100 |              100 |              100 |                 100 |      90 |      80 |      90 |      90 |      90 |\n",
            "| STUDENT 17   |       28 |                   100 |                      100 |              100 |              100 |                 100 |      90 |      80 |      90 |      90 |      95 |\n",
            "| STUDENT 18   |       43 |                   100 |                      100 |              100 |              100 |                 100 |      90 |      80 |      90 |      90 |      95 |\n",
            "| STUDENT 19   |       35 |                   100 |                      100 |              100 |              100 |                 100 |      90 |      90 |      90 |      90 |      90 |\n",
            "| STUDENT 20   |       31 |                   100 |                      100 |              100 |              100 |                 100 |      90 |      90 |      90 |      90 |      90 |\n",
            "| STUDENT 22   |       35 |                   100 |                      100 |              100 |              100 |                 100 |      90 |      90 |      90 |      90 |      90 |\n",
            "| STUDENT 23   |       31 |                   100 |                      100 |              100 |              100 |                 100 |      80 |      75 |      75 |      75 |      95 |\n",
            "| STUDENT 24   |        0 |                   100 |                      100 |               75 |               75 |                  75 |      90 |      80 |      90 |      90 |      95 |\n",
            "| STUDENT 25   |       31 |                   100 |                      100 |              100 |              100 |                 100 |      95 |      95 |      95 |      95 |      80 |\n",
            "| STUDENT 26   |        0 |                   100 |                      100 |               75 |               75 |                  75 |      90 |      80 |      90 |      90 |      95 |\n",
            "| STUDENT 27   |       40 |                   100 |                      100 |              100 |              100 |                 100 |      80 |      75 |      75 |      75 |      95 |\n",
            "| STUDENT 28   |       40 |                   100 |                      100 |              100 |              100 |                 100 |      90 |      90 |      90 |      90 |      90 |\n",
            "| STUDENT 29   |       36 |                   100 |                      100 |              100 |              100 |                 100 |      90 |      90 |      90 |      90 |      90 |\n",
            "+--------------+----------+-----------------------+--------------------------+------------------+------------------+---------------------+---------+---------+---------+---------+---------+\n"
          ]
        }
      ]
    }
  ]
}