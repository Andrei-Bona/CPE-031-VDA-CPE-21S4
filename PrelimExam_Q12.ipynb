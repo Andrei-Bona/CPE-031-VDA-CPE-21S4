{
  "nbformat": 4,
  "nbformat_minor": 0,
  "metadata": {
    "colab": {
      "provenance": [],
      "authorship_tag": "ABX9TyPpmWZAQzQyMNMnaYYh1ZnK",
      "include_colab_link": true
    },
    "kernelspec": {
      "name": "python3",
      "display_name": "Python 3"
    },
    "language_info": {
      "name": "python"
    }
  },
  "cells": [
    {
      "cell_type": "markdown",
      "metadata": {
        "id": "view-in-github",
        "colab_type": "text"
      },
      "source": [
        "<a href=\"https://colab.research.google.com/github/Andrei-Bona/CPE-031-VDA-CPE-21S4/blob/main/PrelimExam_Q12.ipynb\" target=\"_parent\"><img src=\"https://colab.research.google.com/assets/colab-badge.svg\" alt=\"Open In Colab\"/></a>"
      ]
    },
    {
      "cell_type": "code",
      "execution_count": null,
      "metadata": {
        "colab": {
          "base_uri": "https://localhost:8080/"
        },
        "id": "v7LRweqXDuJ5",
        "outputId": "14855701-8390-437d-c372-9a8d90bd7270"
      },
      "outputs": [
        {
          "output_type": "stream",
          "name": "stdout",
          "text": [
            "Original DataFrame\n",
            "   col1  col2  col3\n",
            "0     1     4     7\n",
            "1     4     5     8\n",
            "2     3     6     9\n",
            "3     4     7     0\n",
            "4     5     8     1\n",
            "\n",
            "New DataFrame\n",
            "   col1  col2  col3\n",
            "0     1     4     7\n",
            "2     3     6     9\n",
            "3     4     7     0\n",
            "4     5     8     1\n"
          ]
        }
      ],
      "source": [
        "import pandas as pd\n",
        "\n",
        "dataset = {'col1':[1, 4, 3, 4, 5],\n",
        "           'col2':[4, 5, 6, 7, 8],\n",
        "           'col3':[7, 8, 9, 0, 1]}\n",
        "\n",
        "a = pd.DataFrame(dataset)\n",
        "print(\"Original DataFrame\")\n",
        "print(a)\n",
        "print()\n",
        "\n",
        "newdf = a.drop(1)\n",
        "print(\"New DataFrame\")\n",
        "print(newdf)"
      ]
    }
  ]
}